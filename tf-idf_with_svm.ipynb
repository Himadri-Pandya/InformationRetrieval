{
 "cells": [
  {
   "cell_type": "code",
   "execution_count": 1,
   "metadata": {},
   "outputs": [
    {
     "name": "stdout",
     "output_type": "stream",
     "text": [
      "SVM F1 Score ->  [0.88448845 0.5986654  0.72119816]\n",
      "SVM Recall Score ->  [0.84032803 0.6826087  0.79240506]\n",
      "SVM Precision Score ->  [0.9335477  0.53310696 0.66173362]\n"
     ]
    }
   ],
   "source": [
    "import pandas as pd\n",
    "import numpy as np\n",
    "from sklearn.model_selection import train_test_split\n",
    "from sklearn.feature_extraction.text import TfidfVectorizer\n",
    "from sklearn.svm import SVC\n",
    "from sklearn.preprocessing import LabelEncoder\n",
    "from sklearn import svm\n",
    "from sklearn.metrics import accuracy_score, f1_score, precision_score, recall_score\n",
    "from sklearn.metrics import precision_recall_fscore_support\n",
    "from sklearn import metrics\n",
    "\n",
    "np.random.seed(500)\n",
    "\n",
    "data = pd.read_csv(\"/home/muskan_2117/DAIICT/Sem2/IT550/InformationRetrieval/Tweets.csv\")\n",
    "\n",
    "y = data.airline_sentiment\n",
    "x = data.drop('airline_sentiment', axis=1)\n",
    "\n",
    "x_train, x_test, y_train, y_test = train_test_split(x, y,test_size=0.2)\n",
    "\n",
    "Encoder = LabelEncoder()\n",
    "y_train = Encoder.fit_transform(y_train)\n",
    "y_test = Encoder.fit_transform(y_test)\n",
    "\n",
    "vectorizer = TfidfVectorizer()\n",
    "\n",
    "vectorizer.fit(x_train.text)\n",
    "train = vectorizer.transform(x_train.text)\n",
    "test = vectorizer.transform(x_test.text)\n",
    "train.shape\n",
    "test.shape\n",
    "\n",
    "SVM = svm.SVC(C=1.0, kernel='linear', degree=3, gamma='auto')\n",
    "SVM.fit(train,y_train)\n",
    "\n",
    "pred_output = SVM.predict(test)\n",
    "#print(\"SVM Accuracy Score -> \",accuracy_score(predictions_SVM, y_test)*100)\n",
    "#print(\"SVM F1 Score -> \",f1_score(predictions_SVM, y_test, average=\"macro\")*100)\n",
    "#print(\"SVM Recall Score -> \",recall_score(predictions_SVM, y_test, average=\"macro\")*100)\n",
    "#print(\"SVM Precision Score -> \",precision_score(predictions_SVM, y_test, average=\"macro\")*100)\n",
    "\n",
    "from sklearn.metrics import accuracy_score, f1_score, precision_score, recall_score\n",
    "print(\"SVM F1 Score -> \",f1_score(pred_output, y_test, average=None))\n",
    "print(\"SVM Recall Score -> \",recall_score(pred_output, y_test, average=None))\n",
    "print(\"SVM Precision Score -> \",precision_score(pred_output, y_test, average=None))\n",
    "\n",
    "#print(metrics.classification_report(train.target, predictions_SVM, target_names=train.target_names))"
   ]
  },
  {
   "cell_type": "code",
   "execution_count": null,
   "metadata": {},
   "outputs": [],
   "source": []
  }
 ],
 "metadata": {
  "kernelspec": {
   "display_name": "Python 3",
   "language": "python",
   "name": "python3"
  },
  "language_info": {
   "codemirror_mode": {
    "name": "ipython",
    "version": 3
   },
   "file_extension": ".py",
   "mimetype": "text/x-python",
   "name": "python",
   "nbconvert_exporter": "python",
   "pygments_lexer": "ipython3",
   "version": "3.7.1"
  }
 },
 "nbformat": 4,
 "nbformat_minor": 2
}
