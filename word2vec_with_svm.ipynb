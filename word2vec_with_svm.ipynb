{
 "cells": [
  {
   "cell_type": "code",
   "execution_count": 12,
   "metadata": {},
   "outputs": [
    {
     "data": {
      "text/plain": [
       "(1908518, 2519480)"
      ]
     },
     "execution_count": 12,
     "metadata": {},
     "output_type": "execute_result"
    }
   ],
   "source": [
    "from gensim.models import Word2Vec\n",
    "from sklearn.model_selection import train_test_split\n",
    "import pandas as pd\n",
    "import re\n",
    "from sklearn.svm import LinearSVC\n",
    "import nltk as nl\n",
    "\n",
    "\n",
    "\n",
    "data = pd.read_csv(\"/home/muskan_2117/DAIICT/Sem2/IT550/InformationRetrieval/Tweets.csv\")\n",
    "\n",
    "y = data.airline_sentiment\n",
    "x = data.text\n",
    "\n",
    "\n",
    "\n",
    "word_vector = []\n",
    "temp = []\n",
    "\n",
    "for text in x:\n",
    "    r = re.sub(r'[^\\w\\s-]','',text)\n",
    "    r = re.sub(r'[0-9]','',r)\n",
    "    r = r.lower()\n",
    "    word_vector.append(r)\n",
    "    \n",
    "word_vector = [nl.word_tokenize(sentences) for sentences in word_vector]\n",
    "\n",
    "\n",
    "model = Word2Vec(word_vector, size=100, window = 3, min_count=1, workers=4, sg =1)\n",
    "\n",
    "model.train(word_vector, total_examples=14640, epochs=10)\n",
    "\n",
    "\n",
    "#vectors = model[model.wv.vocab]\n",
    "#words = list(model.wv.vocab)\n",
    "\n",
    "\n",
    "#print(model)\n",
    "#print(vectors)\n",
    "\n",
    "\n"
   ]
  },
  {
   "cell_type": "code",
   "execution_count": 13,
   "metadata": {},
   "outputs": [],
   "source": [
    "w2v = dict(zip(model.wv.index2word, model.wv.vectors))"
   ]
  },
  {
   "cell_type": "code",
   "execution_count": 14,
   "metadata": {},
   "outputs": [],
   "source": [
    "import numpy as np\n",
    "\n",
    "class MeanEmbeddingVectorizer(object):\n",
    "    def __init__(self, word2vec):\n",
    "        self.word2vec = word2vec\n",
    "        # if a text is empty we should return a vector of zeros\n",
    "        # with the same dimensionality as all the other vectors\n",
    "        self.dim = len(next(iter(word2vec.items())))\n",
    "\n",
    "    def fit(self, X, y):\n",
    "        return self\n",
    "\n",
    "    def transform(self, X):\n",
    "        return np.array([\n",
    "            np.mean([self.word2vec[w] for w in words if w in self.word2vec]\n",
    "                    or [np.zeros(self.dim)], axis=0)\n",
    "            for words in X\n",
    "        ])\n"
   ]
  },
  {
   "cell_type": "code",
   "execution_count": 15,
   "metadata": {},
   "outputs": [],
   "source": [
    "features = MeanEmbeddingVectorizer(w2v)\n",
    "\n",
    "x = features.transform(word_vector)"
   ]
  },
  {
   "cell_type": "code",
   "execution_count": 16,
   "metadata": {},
   "outputs": [],
   "source": [
    "x_train, x_test, y_train, y_test = train_test_split(x, y,test_size=0.2)"
   ]
  },
  {
   "cell_type": "code",
   "execution_count": 17,
   "metadata": {},
   "outputs": [
    {
     "data": {
      "text/plain": [
       "LinearSVC(C=1.0, class_weight=None, dual=True, fit_intercept=True,\n",
       "     intercept_scaling=1, loss='squared_hinge', max_iter=1000,\n",
       "     multi_class='ovr', penalty='l2', random_state=None, tol=0.0001,\n",
       "     verbose=0)"
      ]
     },
     "execution_count": 17,
     "metadata": {},
     "output_type": "execute_result"
    }
   ],
   "source": [
    "clf = LinearSVC()\n",
    "\n",
    "clf.fit(x_train,y_train)"
   ]
  },
  {
   "cell_type": "code",
   "execution_count": 18,
   "metadata": {},
   "outputs": [],
   "source": [
    "pred_output = clf.predict(x_test)"
   ]
  },
  {
   "cell_type": "code",
   "execution_count": 20,
   "metadata": {},
   "outputs": [
    {
     "name": "stdout",
     "output_type": "stream",
     "text": [
      "SVM F1 Score ->  [0.86601553 0.56538462 0.63183475]\n",
      "SVM Recall Score ->  [0.80269266 0.67898383 0.76246334]\n",
      "SVM Precision Score ->  [0.94018488 0.48434926 0.53941909]\n"
     ]
    }
   ],
   "source": [
    "from sklearn.metrics import accuracy_score, f1_score, precision_score, recall_score\n",
    "print(\"SVM F1 Score -> \",f1_score(pred_output, y_test, average=None))\n",
    "print(\"SVM Recall Score -> \",recall_score(pred_output, y_test, average=None))\n",
    "print(\"SVM Precision Score -> \",precision_score(pred_output, y_test, average=None))\n"
   ]
  }
 ],
 "metadata": {
  "kernelspec": {
   "display_name": "Python 3",
   "language": "python",
   "name": "python3"
  },
  "language_info": {
   "codemirror_mode": {
    "name": "ipython",
    "version": 3
   },
   "file_extension": ".py",
   "mimetype": "text/x-python",
   "name": "python",
   "nbconvert_exporter": "python",
   "pygments_lexer": "ipython3",
   "version": "3.7.1"
  }
 },
 "nbformat": 4,
 "nbformat_minor": 2
}
